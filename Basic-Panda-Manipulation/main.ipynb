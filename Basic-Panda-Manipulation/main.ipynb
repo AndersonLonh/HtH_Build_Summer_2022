{
 "cells": [
  {
   "cell_type": "code",
   "execution_count": 5,
   "metadata": {},
   "outputs": [],
   "source": [
    "import pandas\n",
    "\n",
    "# Step 1: Use the appropriate pandas method to read the titanic data into your python file \n",
    "titanic_data = pandas.read_csv('titanic.csv')"
   ]
  },
  {
   "cell_type": "code",
   "execution_count": null,
   "metadata": {},
   "outputs": [],
   "source": [
    "# Step 2(a): Use the pandas method that reads the first 25 lines of the dataset\n",
    "first_25_passengers = titanic_data.head(25)"
   ]
  },
  {
   "cell_type": "code",
   "execution_count": 6,
   "metadata": {},
   "outputs": [],
   "source": [
    "# Step 2(b): Use the pandas method thats reads the last 25 lines of the dataset\n",
    "last_25_passengers = titanic_data.tail(25)"
   ]
  },
  {
   "cell_type": "code",
   "execution_count": 7,
   "metadata": {},
   "outputs": [
    {
     "ename": "TypeError",
     "evalue": "'tuple' object is not callable",
     "output_type": "error",
     "traceback": [
      "\u001b[1;31m---------------------------------------------------------------------------\u001b[0m",
      "\u001b[1;31mTypeError\u001b[0m                                 Traceback (most recent call last)",
      "\u001b[1;32mc:\\Users\\Admin\\Documents\\GitHub\\HtH_Build_Summer_2022\\Basic-Panda-Manipulation\\main.ipynb Cell 4\u001b[0m in \u001b[0;36m<cell line: 2>\u001b[1;34m()\u001b[0m\n\u001b[0;32m      <a href='vscode-notebook-cell:/c%3A/Users/Admin/Documents/GitHub/HtH_Build_Summer_2022/Basic-Panda-Manipulation/main.ipynb#ch0000004?line=0'>1</a>\u001b[0m \u001b[39m# Step 3: Use the pandas method that only tells us the number of rows and columns in our data\u001b[39;00m\n\u001b[1;32m----> <a href='vscode-notebook-cell:/c%3A/Users/Admin/Documents/GitHub/HtH_Build_Summer_2022/Basic-Panda-Manipulation/main.ipynb#ch0000004?line=1'>2</a>\u001b[0m titanic_shape \u001b[39m=\u001b[39m titanic_data\u001b[39m.\u001b[39;49mshape()\n",
      "\u001b[1;31mTypeError\u001b[0m: 'tuple' object is not callable"
     ]
    }
   ],
   "source": [
    "# Step 3: Use the pandas method that only tells us the number of rows and columns in our data\n",
    "titanic_shape = titanic_data.shape()"
   ]
  },
  {
   "cell_type": "code",
   "execution_count": 8,
   "metadata": {},
   "outputs": [],
   "source": [
    "# Step 4: Describe the titanic data\n",
    "titanic_description = titanic_data.describe()"
   ]
  },
  {
   "cell_type": "code",
   "execution_count": 9,
   "metadata": {},
   "outputs": [
    {
     "ename": "TypeError",
     "evalue": "Cannot perform 'rand_' with a dtyped [float64] array and scalar of type [bool]",
     "output_type": "error",
     "traceback": [
      "\u001b[1;31m---------------------------------------------------------------------------\u001b[0m",
      "\u001b[1;31mTypeError\u001b[0m                                 Traceback (most recent call last)",
      "File \u001b[1;32mc:\\Users\\Admin\\AppData\\Local\\Programs\\Python\\Python310\\lib\\site-packages\\pandas\\core\\ops\\array_ops.py:301\u001b[0m, in \u001b[0;36mna_logical_op\u001b[1;34m(x, y, op)\u001b[0m\n\u001b[0;32m    292\u001b[0m \u001b[39mtry\u001b[39;00m:\n\u001b[0;32m    293\u001b[0m     \u001b[39m# For exposition, write:\u001b[39;00m\n\u001b[0;32m    294\u001b[0m     \u001b[39m#  yarr = isinstance(y, np.ndarray)\u001b[39;00m\n\u001b[1;32m   (...)\u001b[0m\n\u001b[0;32m    299\u001b[0m     \u001b[39m# Then Cases where this goes through without raising include:\u001b[39;00m\n\u001b[0;32m    300\u001b[0m     \u001b[39m#  (xint or xbool) and (yint or bool)\u001b[39;00m\n\u001b[1;32m--> 301\u001b[0m     result \u001b[39m=\u001b[39m op(x, y)\n\u001b[0;32m    302\u001b[0m \u001b[39mexcept\u001b[39;00m \u001b[39mTypeError\u001b[39;00m:\n",
      "File \u001b[1;32mc:\\Users\\Admin\\AppData\\Local\\Programs\\Python\\Python310\\lib\\site-packages\\pandas\\core\\roperator.py:52\u001b[0m, in \u001b[0;36mrand_\u001b[1;34m(left, right)\u001b[0m\n\u001b[0;32m     51\u001b[0m \u001b[39mdef\u001b[39;00m \u001b[39mrand_\u001b[39m(left, right):\n\u001b[1;32m---> 52\u001b[0m     \u001b[39mreturn\u001b[39;00m operator\u001b[39m.\u001b[39;49mand_(right, left)\n",
      "\u001b[1;31mTypeError\u001b[0m: ufunc 'bitwise_and' not supported for the input types, and the inputs could not be safely coerced to any supported types according to the casting rule ''safe''",
      "\nDuring handling of the above exception, another exception occurred:\n",
      "\u001b[1;31mValueError\u001b[0m                                Traceback (most recent call last)",
      "File \u001b[1;32mc:\\Users\\Admin\\AppData\\Local\\Programs\\Python\\Python310\\lib\\site-packages\\pandas\\core\\ops\\array_ops.py:315\u001b[0m, in \u001b[0;36mna_logical_op\u001b[1;34m(x, y, op)\u001b[0m\n\u001b[0;32m    314\u001b[0m \u001b[39mtry\u001b[39;00m:\n\u001b[1;32m--> 315\u001b[0m     result \u001b[39m=\u001b[39m libops\u001b[39m.\u001b[39;49mscalar_binop(x, y, op)\n\u001b[0;32m    316\u001b[0m \u001b[39mexcept\u001b[39;00m (\n\u001b[0;32m    317\u001b[0m     \u001b[39mTypeError\u001b[39;00m,\n\u001b[0;32m    318\u001b[0m     \u001b[39mValueError\u001b[39;00m,\n\u001b[1;32m   (...)\u001b[0m\n\u001b[0;32m    321\u001b[0m     \u001b[39mNotImplementedError\u001b[39;00m,\n\u001b[0;32m    322\u001b[0m ) \u001b[39mas\u001b[39;00m err:\n",
      "File \u001b[1;32mc:\\Users\\Admin\\AppData\\Local\\Programs\\Python\\Python310\\lib\\site-packages\\pandas\\_libs\\ops.pyx:180\u001b[0m, in \u001b[0;36mpandas._libs.ops.scalar_binop\u001b[1;34m()\u001b[0m\n",
      "\u001b[1;31mValueError\u001b[0m: Buffer dtype mismatch, expected 'Python object' but got 'double'",
      "\nThe above exception was the direct cause of the following exception:\n",
      "\u001b[1;31mTypeError\u001b[0m                                 Traceback (most recent call last)",
      "\u001b[1;32mc:\\Users\\Admin\\Documents\\GitHub\\HtH_Build_Summer_2022\\Basic-Panda-Manipulation\\main.ipynb Cell 6\u001b[0m in \u001b[0;36m<cell line: 2>\u001b[1;34m()\u001b[0m\n\u001b[0;32m      <a href='vscode-notebook-cell:/c%3A/Users/Admin/Documents/GitHub/HtH_Build_Summer_2022/Basic-Panda-Manipulation/main.ipynb#ch0000006?line=0'>1</a>\u001b[0m \u001b[39m# Step 5(a): How many passengers were between the ages of 0 to 16? \u001b[39;00m\n\u001b[1;32m----> <a href='vscode-notebook-cell:/c%3A/Users/Admin/Documents/GitHub/HtH_Build_Summer_2022/Basic-Panda-Manipulation/main.ipynb#ch0000006?line=1'>2</a>\u001b[0m children \u001b[39m=\u001b[39m titanic_data[ titanic_data[\u001b[39m'\u001b[39m\u001b[39mAge\u001b[39m\u001b[39m'\u001b[39m] \u001b[39m<\u001b[39m\u001b[39m=\u001b[39m \u001b[39m16\u001b[39;49m \u001b[39m&\u001b[39;49m titanic_data[\u001b[39m'\u001b[39;49m\u001b[39mAge\u001b[39;49m\u001b[39m'\u001b[39;49m] \u001b[39m>\u001b[39m\u001b[39m=\u001b[39m \u001b[39m0\u001b[39m]\n",
      "File \u001b[1;32mc:\\Users\\Admin\\AppData\\Local\\Programs\\Python\\Python310\\lib\\site-packages\\pandas\\core\\ops\\common.py:70\u001b[0m, in \u001b[0;36m_unpack_zerodim_and_defer.<locals>.new_method\u001b[1;34m(self, other)\u001b[0m\n\u001b[0;32m     66\u001b[0m             \u001b[39mreturn\u001b[39;00m \u001b[39mNotImplemented\u001b[39m\n\u001b[0;32m     68\u001b[0m other \u001b[39m=\u001b[39m item_from_zerodim(other)\n\u001b[1;32m---> 70\u001b[0m \u001b[39mreturn\u001b[39;00m method(\u001b[39mself\u001b[39;49m, other)\n",
      "File \u001b[1;32mc:\\Users\\Admin\\AppData\\Local\\Programs\\Python\\Python310\\lib\\site-packages\\pandas\\core\\arraylike.py:74\u001b[0m, in \u001b[0;36mOpsMixin.__rand__\u001b[1;34m(self, other)\u001b[0m\n\u001b[0;32m     72\u001b[0m \u001b[39m@unpack_zerodim_and_defer\u001b[39m(\u001b[39m\"\u001b[39m\u001b[39m__rand__\u001b[39m\u001b[39m\"\u001b[39m)\n\u001b[0;32m     73\u001b[0m \u001b[39mdef\u001b[39;00m \u001b[39m__rand__\u001b[39m(\u001b[39mself\u001b[39m, other):\n\u001b[1;32m---> 74\u001b[0m     \u001b[39mreturn\u001b[39;00m \u001b[39mself\u001b[39;49m\u001b[39m.\u001b[39;49m_logical_method(other, roperator\u001b[39m.\u001b[39;49mrand_)\n",
      "File \u001b[1;32mc:\\Users\\Admin\\AppData\\Local\\Programs\\Python\\Python310\\lib\\site-packages\\pandas\\core\\series.py:5634\u001b[0m, in \u001b[0;36mSeries._logical_method\u001b[1;34m(self, other, op)\u001b[0m\n\u001b[0;32m   5631\u001b[0m lvalues \u001b[39m=\u001b[39m \u001b[39mself\u001b[39m\u001b[39m.\u001b[39m_values\n\u001b[0;32m   5632\u001b[0m rvalues \u001b[39m=\u001b[39m extract_array(other, extract_numpy\u001b[39m=\u001b[39m\u001b[39mTrue\u001b[39;00m, extract_range\u001b[39m=\u001b[39m\u001b[39mTrue\u001b[39;00m)\n\u001b[1;32m-> 5634\u001b[0m res_values \u001b[39m=\u001b[39m ops\u001b[39m.\u001b[39;49mlogical_op(lvalues, rvalues, op)\n\u001b[0;32m   5635\u001b[0m \u001b[39mreturn\u001b[39;00m \u001b[39mself\u001b[39m\u001b[39m.\u001b[39m_construct_result(res_values, name\u001b[39m=\u001b[39mres_name)\n",
      "File \u001b[1;32mc:\\Users\\Admin\\AppData\\Local\\Programs\\Python\\Python310\\lib\\site-packages\\pandas\\core\\ops\\array_ops.py:391\u001b[0m, in \u001b[0;36mlogical_op\u001b[1;34m(left, right, op)\u001b[0m\n\u001b[0;32m    387\u001b[0m \u001b[39m# For int vs int `^`, `|`, `&` are bitwise operators and return\u001b[39;00m\n\u001b[0;32m    388\u001b[0m \u001b[39m#   integer dtypes.  Otherwise these are boolean ops\u001b[39;00m\n\u001b[0;32m    389\u001b[0m filler \u001b[39m=\u001b[39m fill_int \u001b[39mif\u001b[39;00m is_self_int_dtype \u001b[39mand\u001b[39;00m is_other_int_dtype \u001b[39melse\u001b[39;00m fill_bool\n\u001b[1;32m--> 391\u001b[0m res_values \u001b[39m=\u001b[39m na_logical_op(lvalues, rvalues, op)\n\u001b[0;32m    392\u001b[0m \u001b[39m# error: Cannot call function of unknown type\u001b[39;00m\n\u001b[0;32m    393\u001b[0m res_values \u001b[39m=\u001b[39m filler(res_values)  \u001b[39m# type: ignore[operator]\u001b[39;00m\n",
      "File \u001b[1;32mc:\\Users\\Admin\\AppData\\Local\\Programs\\Python\\Python310\\lib\\site-packages\\pandas\\core\\ops\\array_ops.py:324\u001b[0m, in \u001b[0;36mna_logical_op\u001b[1;34m(x, y, op)\u001b[0m\n\u001b[0;32m    316\u001b[0m         \u001b[39mexcept\u001b[39;00m (\n\u001b[0;32m    317\u001b[0m             \u001b[39mTypeError\u001b[39;00m,\n\u001b[0;32m    318\u001b[0m             \u001b[39mValueError\u001b[39;00m,\n\u001b[1;32m   (...)\u001b[0m\n\u001b[0;32m    321\u001b[0m             \u001b[39mNotImplementedError\u001b[39;00m,\n\u001b[0;32m    322\u001b[0m         ) \u001b[39mas\u001b[39;00m err:\n\u001b[0;32m    323\u001b[0m             typ \u001b[39m=\u001b[39m \u001b[39mtype\u001b[39m(y)\u001b[39m.\u001b[39m\u001b[39m__name__\u001b[39m\n\u001b[1;32m--> 324\u001b[0m             \u001b[39mraise\u001b[39;00m \u001b[39mTypeError\u001b[39;00m(\n\u001b[0;32m    325\u001b[0m                 \u001b[39mf\u001b[39m\u001b[39m\"\u001b[39m\u001b[39mCannot perform \u001b[39m\u001b[39m'\u001b[39m\u001b[39m{\u001b[39;00mop\u001b[39m.\u001b[39m\u001b[39m__name__\u001b[39m\u001b[39m}\u001b[39;00m\u001b[39m'\u001b[39m\u001b[39m with a dtyped [\u001b[39m\u001b[39m{\u001b[39;00mx\u001b[39m.\u001b[39mdtype\u001b[39m}\u001b[39;00m\u001b[39m] array \u001b[39m\u001b[39m\"\u001b[39m\n\u001b[0;32m    326\u001b[0m                 \u001b[39mf\u001b[39m\u001b[39m\"\u001b[39m\u001b[39mand scalar of type [\u001b[39m\u001b[39m{\u001b[39;00mtyp\u001b[39m}\u001b[39;00m\u001b[39m]\u001b[39m\u001b[39m\"\u001b[39m\n\u001b[0;32m    327\u001b[0m             ) \u001b[39mfrom\u001b[39;00m \u001b[39merr\u001b[39;00m\n\u001b[0;32m    329\u001b[0m \u001b[39mreturn\u001b[39;00m result\u001b[39m.\u001b[39mreshape(x\u001b[39m.\u001b[39mshape)\n",
      "\u001b[1;31mTypeError\u001b[0m: Cannot perform 'rand_' with a dtyped [float64] array and scalar of type [bool]"
     ]
    }
   ],
   "source": [
    "# Step 5(a): How many passengers were between the ages of 0 to 16? \n",
    "children = titanic_data[ titanic_data['Age'] <= 16 & titanic_data['Age'] >= 0] "
   ]
  },
  {
   "cell_type": "code",
   "execution_count": null,
   "metadata": {},
   "outputs": [],
   "source": [
    "# Step 5(b): How many passengers were between the ages of 17 to 25?\n",
    "young_adults =  titanic_data[ titanic_data['Age'] <= 25 & titanic_data['Age'] >= 17]"
   ]
  },
  {
   "cell_type": "code",
   "execution_count": null,
   "metadata": {},
   "outputs": [],
   "source": [
    "# Step 5(c): How many passengers were between the ages of 26 to 40?\n",
    "adults = titanic_data[ titanic_data['Age'] <= 40 & titanic_data['Age'] >= 26]"
   ]
  },
  {
   "cell_type": "code",
   "execution_count": null,
   "metadata": {},
   "outputs": [],
   "source": [
    "# Step 5(d): How many passengers were between the ages of 41 to 59?\n",
    "mature_adults = titanic_data[ titanic_data['Age'] <= 59 & titanic_data['Age'] >= 41]"
   ]
  },
  {
   "cell_type": "code",
   "execution_count": null,
   "metadata": {},
   "outputs": [],
   "source": [
    "# Step 5(e): How many passengers were 60 or older?\n",
    "seniors = titanic_data[ titanic_data['Age'] >= 60]"
   ]
  },
  {
   "cell_type": "code",
   "execution_count": null,
   "metadata": {},
   "outputs": [],
   "source": [
    "# Step 6: How many values are missing from the \"age\" column\n",
    "missing_ages = len(titanic_data[titanic_data['Age'].isnull()])"
   ]
  },
  {
   "cell_type": "code",
   "execution_count": null,
   "metadata": {},
   "outputs": [],
   "source": [
    "# Step 7: List out all the available passengers' ages\n",
    "age_list = titanic_data.dropna()['Age'].unique()"
   ]
  },
  {
   "cell_type": "code",
   "execution_count": null,
   "metadata": {},
   "outputs": [],
   "source": [
    "# Step 8: Filter the DataFrame to find all passengers who boarded the Titanic at Port Cherbourg \n",
    "cherbourg_passengers = titanic_data[ titanic_data['Embarked'] == 'C']"
   ]
  },
  {
   "cell_type": "code",
   "execution_count": null,
   "metadata": {},
   "outputs": [],
   "source": [
    "# Step 9(a): Find the average age of all female passengers\n",
    "\n",
    "avg_fem_age = titanic_data[titanic_data['Sex'] == \"female\"['Age']].mean()"
   ]
  },
  {
   "cell_type": "code",
   "execution_count": null,
   "metadata": {},
   "outputs": [],
   "source": [
    "# Step 9(b): Find the average age of all male passengers\n",
    "avg_male_age = avg_fem_age = titanic_data[titanic_data['Sex'] == \"male\"['Age']].mean()"
   ]
  },
  {
   "cell_type": "code",
   "execution_count": null,
   "metadata": {},
   "outputs": [],
   "source": [
    "# Step 10(a): Find the survival percentage of passengers in group \"C\"\n",
    "total_cherbourg = len(titanic_data [titanic_data['Embarked'] == \"C\"])\n",
    "cherbourg_survival = titanic_data[ titanic_data['Embarked'] == \"C\"]['Survived'].sum()\n",
    "survival_percentage_cherbourg = cherbourg_survival/total_cherbourg\n"
   ]
  },
  {
   "cell_type": "code",
   "execution_count": null,
   "id": "25533c14",
   "metadata": {},
   "outputs": [],
   "source": [
    "# Step 10(b): Find the survival percentage of passengers in group \"Q\"\n",
    "total_queenstown = len(titanic_data [titanic_data['Embarked'] == \"Q\"])\n",
    "queenstown_survival = titanic_data[ titanic_data['Embarked'] == \"Q\"]['Survived'].sum()\n",
    "survival_percentage_queenstown = queenstown_survival/total_queenstown"
   ]
  },
  {
   "cell_type": "code",
   "execution_count": null,
   "metadata": {},
   "outputs": [],
   "source": [
    "# Step 10(c): Find the survival percentage of passengers in group \"S\"\n",
    "total_south = len(titanic_data [titanic_data['Embarked'] == \"S\"])\n",
    "south_survival = titanic_data[ titanic_data['Embarked'] == \"S\"]['Survived'].sum()\n",
    "survival_percentage_south = south_survival/total_south"
   ]
  }
 ],
 "metadata": {
  "kernelspec": {
   "display_name": "Python 3.10.5 64-bit",
   "language": "python",
   "name": "python3"
  },
  "language_info": {
   "codemirror_mode": {
    "name": "ipython",
    "version": 3
   },
   "file_extension": ".py",
   "mimetype": "text/x-python",
   "name": "python",
   "nbconvert_exporter": "python",
   "pygments_lexer": "ipython3",
   "version": "3.10.5"
  },
  "orig_nbformat": 4,
  "vscode": {
   "interpreter": {
    "hash": "a42ccb73e7d9bfdf27e036f1d2b8b681e55fc0743cc5586bc2474d4a60f4b886"
   }
  }
 },
 "nbformat": 4,
 "nbformat_minor": 2
}
