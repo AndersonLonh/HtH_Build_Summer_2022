{
 "cells": [
  {
   "cell_type": "code",
   "execution_count": 36,
   "metadata": {},
   "outputs": [],
   "source": [
    "#Importing spqlite3\n",
    "\n",
    "import sqlite3"
   ]
  },
  {
   "cell_type": "code",
   "execution_count": 37,
   "metadata": {},
   "outputs": [],
   "source": [
    "# Creating a SQLite Database in python\n",
    "conn = sqlite3.connect('orders.db')\n",
    "\n"
   ]
  },
  {
   "cell_type": "code",
   "execution_count": 38,
   "metadata": {},
   "outputs": [],
   "source": [
    "# Creating a cursor object\n",
    "cur = conn.cursor()\n"
   ]
  },
  {
   "cell_type": "code",
   "execution_count": 47,
   "metadata": {},
   "outputs": [],
   "source": [
    "# Creating Tables in SQLite \n",
    "\n",
    "cur.execute(\"\"\"CREATE TABLE IF NOT EXISTS users(\n",
    "   userid INT PRIMARY KEY,\n",
    "   fname TEXT,\n",
    "   lname TEXT,\n",
    "   gender TEXT);\n",
    "\"\"\")\n",
    "conn.commit()\n",
    "\n",
    "\n",
    "cur.execute(\"\"\"CREATE TABLE IF NOT EXISTS orders(\n",
    "   orderid INT PRIMARY KEY,\n",
    "   date TEXT,\n",
    "   userid TEXT,\n",
    "   total TEXT);\n",
    "\"\"\")\n",
    "conn.commit()"
   ]
  },
  {
   "cell_type": "code",
   "execution_count": null,
   "metadata": {},
   "outputs": [],
   "source": [
    "#Adding Data with SQLite\n",
    "\n",
    "cur.execute(\"\"\"INSERT INTO users(userid, fname, lname, gender) \n",
    "   VALUES('00001', 'Nik', 'Piepenbreier', 'male');\"\"\")\n",
    "conn.commit()\n",
    "\n",
    "user = ('00002', 'Lois', 'Lane', 'Female')\n",
    "\n",
    "#Replacing user data with question marks\n",
    "cur.execute(\"\"\"INSERT INTO users VALUES(?, ?, ?, ?);\"\"\", user)\n",
    "conn.commit()\n",
    "\n",
    "more_users = [('00003', 'Peter', 'Parker', 'Male'), ('00004', 'Bruce', 'Wayne', 'male')]\n",
    "\n",
    "cur.executemany(\"INSERT INTO users VALUES(?, ?, ?, ?);\", more_users)\n",
    "conn.commit()"
   ]
  },
  {
   "cell_type": "code",
   "execution_count": null,
   "metadata": {},
   "outputs": [],
   "source": [
    "#Using fetchone() in SQLite \n",
    "\n",
    "cur.execute(\"SELECT * FROM users;\")\n",
    "one_result = cur.fetchone()\n",
    "print(one_result)\n",
    "\n",
    "cur.execute(\"SELECT * FROM users;\")\n",
    "three_results = cur.fetchmany(3)\n",
    "print(three_results)"
   ]
  },
  {
   "cell_type": "code",
   "execution_count": null,
   "metadata": {},
   "outputs": [],
   "source": [
    "#Deleting Data\n",
    "\n",
    "cur.execute(\"DELETE FROM users WHERE lname='Parker';\")\n",
    "conn.commit()\n",
    "\n",
    "cur.execute(\"select * from users where lname='Parker'\")\n",
    "print(cur.fetchall())\n",
    "\n",
    "cur.execute(\"\"\"SELECT *, users.fname, users.lname FROM orders\n",
    "    LEFT JOIN users ON users.userid=orders.userid;\"\"\")\n",
    "print(cur.fetchall())"
   ]
  }
 ],
 "metadata": {
  "kernelspec": {
   "display_name": "Python 3.10.5 64-bit",
   "language": "python",
   "name": "python3"
  },
  "language_info": {
   "codemirror_mode": {
    "name": "ipython",
    "version": 3
   },
   "file_extension": ".py",
   "mimetype": "text/x-python",
   "name": "python",
   "nbconvert_exporter": "python",
   "pygments_lexer": "ipython3",
   "version": "3.10.5"
  },
  "orig_nbformat": 4,
  "vscode": {
   "interpreter": {
    "hash": "a42ccb73e7d9bfdf27e036f1d2b8b681e55fc0743cc5586bc2474d4a60f4b886"
   }
  }
 },
 "nbformat": 4,
 "nbformat_minor": 2
}
